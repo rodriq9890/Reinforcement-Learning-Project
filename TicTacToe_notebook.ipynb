{
  "nbformat": 4,
  "nbformat_minor": 0,
  "metadata": {
    "colab": {
      "name": "TicTacToe.ipynb",
      "provenance": [],
      "collapsed_sections": []
    },
    "kernelspec": {
      "display_name": "Python 3",
      "name": "python3"
    },
    "language_info": {
      "name": "python"
    }
  },
  "cells": [
    {
      "cell_type": "markdown",
      "metadata": {
        "id": "9o4qgdF2HXrI"
      },
      "source": [
        "# Environment and set-up"
      ]
    },
    {
      "cell_type": "code",
      "metadata": {
        "id": "2EIFqq9lzTtm"
      },
      "source": [
        "import numpy as np\n",
        "import pickle\n",
        "import matplotlib.pyplot as plt\n",
        "from matplotlib.pyplot import figure\n",
        "import random\n",
        "%matplotlib inline\n",
        "\n",
        "BOARD_ROWS = 3\n",
        "BOARD_COLS = 3\n",
        "\n",
        "\n",
        "class State:\n",
        "    def __init__(self, p1, p2):\n",
        "        #create a board of any size\n",
        "        self.board = np.zeros((BOARD_ROWS, BOARD_COLS))\n",
        "        #player 1\n",
        "        self.p1 = p1\n",
        "        #player 2\n",
        "        self.p2 = p2\n",
        "        #is the game over\n",
        "        self.isEnd = False\n",
        "        #the has of the board state\n",
        "        self.boardHash = None\n",
        "        # init p1 plays first\n",
        "        self.playerSymbol = 1\n",
        "\n",
        "    # get unique hash of current board state\n",
        "    def getHash(self):\n",
        "        #get a string hash of the board state\n",
        "        self.boardHash = str(self.board.reshape(BOARD_COLS * BOARD_ROWS))\n",
        "        return self.boardHash\n",
        "\n",
        "    #returns 1 if p1 won, -1 if p2 won\n",
        "    def winner(self):\n",
        "        # row\n",
        "        for i in range(BOARD_ROWS):\n",
        "            if sum(self.board[i, :]) == 3:\n",
        "                self.isEnd = True\n",
        "                return 1\n",
        "            if sum(self.board[i, :]) == -3:\n",
        "                self.isEnd = True\n",
        "                return -1\n",
        "        # col\n",
        "        for i in range(BOARD_COLS):\n",
        "            if sum(self.board[:, i]) == 3:\n",
        "                self.isEnd = True\n",
        "                return 1\n",
        "            if sum(self.board[:, i]) == -3:\n",
        "                self.isEnd = True\n",
        "                return -1\n",
        "        # diagonal\n",
        "        diag_sum1 = sum([self.board[i, i] for i in range(BOARD_COLS)])\n",
        "        diag_sum2 = sum([self.board[i, BOARD_COLS - i - 1] for i in range(BOARD_COLS)])\n",
        "        diag_sum = max(abs(diag_sum1), abs(diag_sum2))\n",
        "        if diag_sum == 3:\n",
        "            self.isEnd = True\n",
        "            if diag_sum1 == 3 or diag_sum2 == 3:\n",
        "                return 1\n",
        "            else:\n",
        "                return -1\n",
        "\n",
        "        # tie\n",
        "        # no available positions\n",
        "        if len(self.availablePositions()) == 0:\n",
        "            self.isEnd = True\n",
        "            return 0\n",
        "        # not end\n",
        "        self.isEnd = False\n",
        "        return None\n",
        "\n",
        "    def availablePositions(self):\n",
        "        positions = []\n",
        "        for i in range(BOARD_ROWS):\n",
        "            for j in range(BOARD_COLS):\n",
        "                if self.board[i, j] == 0:\n",
        "                    positions.append((i, j))  # need to be tuple\n",
        "        return positions\n",
        "\n",
        "    def updateState(self, position):\n",
        "        self.board[position] = self.playerSymbol\n",
        "        # switch to another player\n",
        "        self.playerSymbol = -1 if self.playerSymbol == 1 else 1\n",
        "\n",
        "    # only when game ends\n",
        "    def giveReward(self):\n",
        "        result = self.winner()\n",
        "        # backpropagate reward\n",
        "        if result == 1:\n",
        "            self.p1.feedReward(1)\n",
        "            self.p2.feedReward(0)\n",
        "        elif result == -1:\n",
        "            self.p1.feedReward(0)\n",
        "            self.p2.feedReward(1)\n",
        "        else:\n",
        "            self.p1.feedReward(0.1)\n",
        "            self.p2.feedReward(0.5)\n",
        "\n",
        "    # board reset\n",
        "    def reset(self):\n",
        "        self.board = np.zeros((BOARD_ROWS, BOARD_COLS))\n",
        "        self.boardHash = None\n",
        "        self.isEnd = False\n",
        "        self.playerSymbol = 1\n",
        "        \n",
        "    # Random vs. Q-Agent (Training) Player 2 is the Q-learning agent and Player 2 goes first\n",
        "    def play0(self, rounds=100):\n",
        "        results = []\n",
        "        for i in range(rounds):\n",
        "            #if i % 1000 == 0:\n",
        "                #print(\"Rounds {}\".format(i))\n",
        "            while not self.isEnd:\n",
        "                    # Player 2 goes first\n",
        "                    positions = self.availablePositions()\n",
        "                    p2_action = self.p2.chooseAction(positions, self.board, self.playerSymbol)\n",
        "                    self.updateState(p2_action)\n",
        "                    board_hash = self.getHash()\n",
        "                    self.p2.addState(board_hash)\n",
        "\n",
        "                    win = self.winner()\n",
        "                    if win is not None:\n",
        "                        if win == 0:\n",
        "                            self.p2.feedReward(0)\n",
        "                            self.p2.reset()\n",
        "                            self.reset()\n",
        "                            results.append(0)\n",
        "                            break\n",
        "                        # self.showBoard()\n",
        "                        # ended with p2 either win or draw\n",
        "                        results.append(-1)\n",
        "                        self.p2.feedReward(1)\n",
        "                        self.p2.reset()\n",
        "                        self.reset()\n",
        "                        break\n",
        "                    else:\n",
        "                     # Player 1\n",
        "                     positions = self.availablePositions()\n",
        "                     p1_action = self.p1.chooseAction(positions)\n",
        "                     # take action and upate board state\n",
        "                     self.updateState(p1_action)\n",
        "        \n",
        "                     # check board status if it is end\n",
        "                     win = self.winner()\n",
        "                     if win is not None:\n",
        "                       if win == 0:\n",
        "                         self.p2.feedReward(0)\n",
        "                         self.p2.reset()\n",
        "                         self.reset()\n",
        "                         results.append(0)\n",
        "                         break\n",
        "                       # self.showBoard()\n",
        "                       # ended with p1 either win or draw\n",
        "                       results.append(1)\n",
        "                       self.p2.feedReward(-1)\n",
        "                       self.p2.reset()\n",
        "                       self.reset()\n",
        "                       break\n",
        "      \n",
        "        self.p2.savePolicy()\n",
        "        return results\n",
        "  \n",
        "    #Q Agent v. Q Agent (Training)\n",
        "    def play(self, rounds=100):\n",
        "        results = []\n",
        "        for i in range(rounds):\n",
        "            if i % 1000 == 0:\n",
        "                print(\"Rounds {}\".format(i))\n",
        "            while not self.isEnd:\n",
        "                # Player 1\n",
        "                positions = self.availablePositions()\n",
        "                p1_action = self.p1.chooseAction(positions, self.board, self.playerSymbol)\n",
        "                # take action and upate board state\n",
        "                self.updateState(p1_action)\n",
        "                board_hash = self.getHash()\n",
        "                self.p1.addState(board_hash)\n",
        "                # check board status if it is end\n",
        "                win = self.winner()\n",
        "                if win is not None:\n",
        "                    if win == 0:\n",
        "                        self.giveReward()\n",
        "                        self.p2.reset()\n",
        "                        self.p1.reset()\n",
        "                        self.reset()\n",
        "                        results.append(0)\n",
        "                        break\n",
        "                    # self.showBoard()\n",
        "                    # ended with p1 either win or draw\n",
        "                    results.append(1)\n",
        "                    self.giveReward()\n",
        "                    self.p2.reset()\n",
        "                    self.p1.reset()\n",
        "                    self.reset()\n",
        "                    break\n",
        "\n",
        "                else:\n",
        "                    # Player 2\n",
        "                    positions = self.availablePositions()\n",
        "                    p2_action = self.p2.chooseAction(positions, self.board, self.playerSymbol)\n",
        "                    self.updateState(p2_action)\n",
        "                    board_hash = self.getHash()\n",
        "                    self.p2.addState(board_hash)\n",
        "\n",
        "                    win = self.winner()\n",
        "                    if win is not None:\n",
        "                        if win == 0:\n",
        "                            self.giveReward()\n",
        "                            self.p2.reset()\n",
        "                            self.p1.reset()\n",
        "                            self.reset()\n",
        "                            results.append(0)\n",
        "                            break\n",
        "                        # self.showBoard()\n",
        "                        # ended with p2 either win or draw\n",
        "                        results.append(-1)\n",
        "                        self.giveReward()\n",
        "                        self.p1.reset()\n",
        "                        self.p2.reset()\n",
        "                        self.reset()\n",
        "                        break\n",
        "        self.p1.savePolicy()\n",
        "        self.p2.savePolicy()\n",
        "        return results\n",
        "  \n",
        "    # Q-Agent vs. Random OR Human player (Have to specify with appropriate classes)\n",
        "    def play2(self, showBoard = False):\n",
        "        results = []\n",
        "        while not self.isEnd:\n",
        "            # Player 1\n",
        "            positions = self.availablePositions()\n",
        "            p1_action = self.p1.chooseAction(positions, self.board, self.playerSymbol)\n",
        "            # take action and upate board state\n",
        "            self.updateState(p1_action)\n",
        "            if showBoard:\n",
        "                self.showBoard()\n",
        "            # check board status if it is end\n",
        "            win = self.winner()\n",
        "            if win is not None:\n",
        "                if win == 1:\n",
        "                    results.append(1)\n",
        "                    if showBoard:\n",
        "                        print(self.p1.name, \"wins!\")\n",
        "                else:\n",
        "                    results.append(0)\n",
        "                    if showBoard:\n",
        "                        print(\"tie!\")\n",
        "                self.reset()\n",
        "                self.p1.reset()\n",
        "                self.p2.reset()\n",
        "                self.reset()               \n",
        "                break\n",
        "\n",
        "            else:\n",
        "                # Player 2\n",
        "                positions = self.availablePositions()\n",
        "                p2_action = self.p2.chooseAction(positions)\n",
        "                self.updateState(p2_action)\n",
        "                if showBoard:\n",
        "                    self.showBoard()\n",
        "                win = self.winner()\n",
        "                if win is not None:\n",
        "                    if win == -1:\n",
        "                        results.append(-1)\n",
        "                        if showBoard:\n",
        "                            print(self.p2.name, \"wins!\")\n",
        "                    else:\n",
        "                        results.append(0)\n",
        "                        if showBoard:\n",
        "                            print(\"tie!\")\n",
        "                        self.p1.reset()\n",
        "                        self.p2.reset()\n",
        "                        self.reset()\n",
        "                    self.reset()\n",
        "                    break\n",
        "        return win\n",
        "\n",
        "    # Human or Random vs. Human or Random (H v. H, R v. H, R v. R)\n",
        "    def play3(self, showBoard = False):\n",
        "        results = []\n",
        "        while not self.isEnd:\n",
        "            # Player 1\n",
        "            positions = self.availablePositions()\n",
        "            p1_action = self.p1.chooseAction(positions)\n",
        "            # take action and upate board state\n",
        "            self.updateState(p1_action)\n",
        "            if showBoard:\n",
        "                self.showBoard()\n",
        "            # check board status if it is end\n",
        "            win = self.winner()\n",
        "            if win is not None:\n",
        "                if win == 1:\n",
        "                    results.append(1)\n",
        "                    if showBoard:\n",
        "                        print(self.p1.name, \"wins!\")\n",
        "                else:\n",
        "                    results.append(0)\n",
        "                    if showBoard:\n",
        "                        print(\"tie!\")\n",
        "                self.reset()\n",
        "                break\n",
        "\n",
        "            else:\n",
        "                # Player 2\n",
        "                positions = self.availablePositions()\n",
        "                p2_action = self.p2.chooseAction(positions)\n",
        "                self.updateState(p2_action)\n",
        "                if showBoard:\n",
        "                    self.showBoard()\n",
        "                win = self.winner()\n",
        "                if win is not None:\n",
        "                    if win == -1:\n",
        "                        results.append(-1)\n",
        "                        if showBoard:\n",
        "                            print(self.p2.name, \"wins!\")\n",
        "                    else:\n",
        "                        results.append(0)\n",
        "                        if showBoard:\n",
        "                            print(\"tie!\")\n",
        "                    self.reset()\n",
        "                    break\n",
        "        return win\n",
        "                    \n",
        "\n",
        "    # Q vs Q (Both Trained)           \n",
        "    def play4(self, showBoard = False):\n",
        "        results = []\n",
        "        self.reset()\n",
        "        while not self.isEnd:\n",
        "            # Player 1\n",
        "            positions = self.availablePositions()\n",
        "            p1_action = self.p1.chooseAction(positions, self.board, self.playerSymbol)\n",
        "            # take action and upate board state\n",
        "            self.updateState(p1_action)\n",
        "            if showBoard:\n",
        "                self.showBoard()\n",
        "            # check board status if it is end\n",
        "            win = self.winner()\n",
        "            if win is not None:\n",
        "                if win == 1:\n",
        "                    results.append(1)\n",
        "                    if showBoard:\n",
        "                        print(self.p1.name, \"wins!\")\n",
        "                        break\n",
        "                else:\n",
        "                    results.append(0)\n",
        "                    if showBoard:\n",
        "                        print(\"tie!\")\n",
        "                        break\n",
        "                self.reset()\n",
        "                break\n",
        "\n",
        "            else:\n",
        "                # Player 2\n",
        "                positions = self.availablePositions()\n",
        "                p2_action = self.p2.chooseAction(positions, self.board, self.playerSymbol)\n",
        "                # take action and upate board state\n",
        "                self.updateState(p2_action)\n",
        "                if showBoard:\n",
        "                    self.showBoard()\n",
        "                # check board status if it is end\n",
        "                win = self.winner()\n",
        "                if win is not None:\n",
        "                    if win == -1:\n",
        "                        results.append(-1)\n",
        "                        if showBoard:\n",
        "                            print(self.p2.name, \"wins!\")\n",
        "                            break\n",
        "                    else:\n",
        "                        results.append(0)\n",
        "                        if showBoard:\n",
        "                            print(\"tie!\")\n",
        "                            break\n",
        "                    self.reset()\n",
        "                    break\n",
        "        return win\n",
        "\n",
        "    # Human or Random vs. Q Agent (First player advantage is important)\n",
        "    def play5(self, showBoard = False):\n",
        "        results = []\n",
        "        while not self.isEnd:\n",
        "            # Player 1\n",
        "            positions = self.availablePositions()\n",
        "            p1_action = self.p1.chooseAction(positions)\n",
        "            # take action and upate board state\n",
        "            self.updateState(p1_action)\n",
        "            if showBoard:\n",
        "                self.showBoard()\n",
        "            # check board status if it is end\n",
        "            win = self.winner()\n",
        "            if win is not None:\n",
        "                if win == 1:\n",
        "                    results.append(1)\n",
        "                    if showBoard:\n",
        "                        print(self.p1.name, \"wins!\")\n",
        "                else:\n",
        "                    results.append(0)\n",
        "                    if showBoard:\n",
        "                        print(\"tie!\")\n",
        "                self.reset()\n",
        "                break\n",
        "\n",
        "            else:\n",
        "                # Player 2\n",
        "                positions = self.availablePositions()\n",
        "                p2_action = self.p2.chooseAction(positions, self.board, self.playerSymbol)\n",
        "                # take action and upate board state\n",
        "                self.updateState(p2_action)\n",
        "                if showBoard:\n",
        "                    self.showBoard()\n",
        "                # check board status if it is end\n",
        "                win = self.winner()\n",
        "                if win is not None:\n",
        "                    if win == -1:\n",
        "                        results.append(-1)\n",
        "                        if showBoard:\n",
        "                            print(self.p2.name, \"wins!\")\n",
        "                            break\n",
        "                    else:\n",
        "                        results.append(0)\n",
        "                        if showBoard:\n",
        "                            print(\"tie!\")\n",
        "                            break\n",
        "                    self.reset()\n",
        "                    break\n",
        "        return win\n",
        "        \n",
        "    def play6(self, rounds=100, showBoard=False):\n",
        "        results = []\n",
        "        for i in range(rounds):\n",
        "            if i % 1000 == 0:\n",
        "                print(\"Rounds {}\".format(i))\n",
        "            while not self.isEnd:\n",
        "                # Player 1\n",
        "                positions = self.availablePositions()\n",
        "                p1_action = self.p1.chooseAction(positions, self.board, self.playerSymbol)\n",
        "                # take action and upate board state\n",
        "                self.updateState(p1_action)\n",
        "                if showBoard:\n",
        "                    self.showBoard()\n",
        "                # check board status if it is end\n",
        "                win = self.winner()\n",
        "                if win is not None:\n",
        "                    if win == 1:\n",
        "                        results.append(1)\n",
        "                        if showBoard:\n",
        "                            print(self.p1.name, \"wins!\")\n",
        "                            break\n",
        "                    else:\n",
        "                        results.append(0)\n",
        "                        if showBoard:\n",
        "                            print(\"tie!\")\n",
        "                            break\n",
        "                    self.reset()\n",
        "                    break\n",
        "                else:\n",
        "                    # Player 2\n",
        "                    positions = self.availablePositions()\n",
        "                    p2_action = self.p2.chooseAction(positions, self.board, self.playerSymbol)\n",
        "                    # take action and upate board state\n",
        "                    self.updateState(p2_action)\n",
        "                    if showBoard:\n",
        "                        self.showBoard()\n",
        "                    # check board status if it is end\n",
        "                    win = self.winner()\n",
        "                    if win is not None:\n",
        "                        if win == -1:\n",
        "                            results.append(-1)\n",
        "                            if showBoard:\n",
        "                                print(self.p2.name, \"wins!\")\n",
        "                                break\n",
        "                        else:\n",
        "                            results.append(0)\n",
        "                            if showBoard:\n",
        "                                print(\"tie!\")\n",
        "                                break\n",
        "                        self.reset()\n",
        "                        break\n",
        "        return results\n",
        "\n",
        "\n",
        "    def showBoard(self):\n",
        "        # p1: x  p2: o\n",
        "        for i in range(0, BOARD_ROWS):\n",
        "            print('-------------')\n",
        "            out = '| '\n",
        "            for j in range(0, BOARD_COLS):\n",
        "                if self.board[i, j] == 1:\n",
        "                    token = 'x'\n",
        "                if self.board[i, j] == -1:\n",
        "                    token = 'o'\n",
        "                if self.board[i, j] == 0:\n",
        "                    token = ' '\n",
        "                out += token + ' | '\n",
        "            print(out)\n",
        "        print('-------------')\n",
        "def createPlot(arr):\n",
        "    plt.style.use('seaborn-darkgrid')\n",
        "    labels, counts = np.unique(arr, return_counts=True)\n",
        "    if len(labels) == 1:\n",
        "        if labels[0] == 1:\n",
        "            plt.bar(labels, counts, align='center')\n",
        "            plt.gca().set_xticks(labels)\n",
        "            plt.gca().set_xticklabels(['Player 1 wins'])\n",
        "            plt.gca().set_ylabel('# of occurences')\n",
        "            plt.show()\n",
        "        if labels[0] == -1:\n",
        "            plt.bar(labels, counts, align='center')\n",
        "            plt.gca().set_xticks(labels)\n",
        "            plt.gca().set_xticklabels(['Player 2 wins'])\n",
        "            plt.gca().set_ylabel('# of occurences')\n",
        "            plt.show()\n",
        "        if labels[0] == 0:\n",
        "            plt.bar(labels, counts, align='center')\n",
        "            plt.gca().set_xticks(labels)\n",
        "            plt.gca().set_xticklabels(['Tie'])\n",
        "            plt.gca().set_ylabel('# of occurences')\n",
        "            plt.show()\n",
        "    else:\n",
        "        plt.bar(labels, counts, align='center')\n",
        "        plt.gca().set_xticks(labels)\n",
        "        plt.gca().set_xticklabels(['Player 2 Wins', 'Ties', 'Player 1 wins'])\n",
        "        plt.gca().set_ylabel('# of occurences')\n",
        "        plt.show()"
      ],
      "execution_count": null,
      "outputs": []
    },
    {
      "cell_type": "markdown",
      "metadata": {
        "id": "Vg1QHMrqHk6w"
      },
      "source": [
        "# Q-learning Player"
      ]
    },
    {
      "cell_type": "code",
      "metadata": {
        "id": "o3rpB0YVBgWa"
      },
      "source": [
        "class qPlayer:\n",
        "    def __init__(self, name, exp_rate=0.3, lr = 0.2, gamma = 0.9):\n",
        "        self.name = name\n",
        "        self.states = []\n",
        "        self.lr = lr\n",
        "        self.exp_rate = exp_rate\n",
        "        self.decay_gamma = gamma\n",
        "        self.states_value = {}\n",
        "        #self.seed=0\n",
        "\n",
        "    def getHash(self, board):\n",
        "        boardHash = str(board.reshape(BOARD_COLS * BOARD_ROWS))\n",
        "        return boardHash\n",
        "\n",
        "    def chooseAction(self, positions, current_board, symbol):\n",
        "        #np.random.seed(self.seed)\n",
        "        if np.random.uniform(0, 1) <= self.exp_rate:\n",
        "            idx = np.random.choice(len(positions))\n",
        "            action = positions[idx]\n",
        "        else:\n",
        "            value_max = -999\n",
        "            for p in positions:\n",
        "                next_board = current_board.copy()\n",
        "                next_board[p] = symbol\n",
        "                next_boardHash = self.getHash(next_board)\n",
        "                value = 0 if self.states_value.get(next_boardHash) is None else self.states_value.get(next_boardHash)\n",
        "                # print(\"value\", value)\n",
        "                if value >= value_max:\n",
        "                    value_max = value\n",
        "                    action = p\n",
        "        return action\n",
        "\n",
        "    def addState(self, state):\n",
        "        self.states.append(state)\n",
        "\n",
        "    def feedReward(self, reward):\n",
        "        for st in reversed(self.states):\n",
        "            if self.states_value.get(st) is None:\n",
        "                self.states_value[st] = 0\n",
        "            self.states_value[st] += self.lr * (self.decay_gamma * reward - self.states_value[st])\n",
        "            reward = self.states_value[st]\n",
        "\n",
        "    def reset(self):\n",
        "        self.states = []\n",
        "        \n",
        "    def savePolicy(self):\n",
        "        fw = open('policy_' + str(self.name), 'wb')\n",
        "        pickle.dump(self.states_value, fw)\n",
        "        fw.close()\n",
        "\n",
        "    def loadPolicy(self, file):\n",
        "        fr = open(file, 'rb')\n",
        "        self.states_value = pickle.load(fr)\n",
        "        fr.close()"
      ],
      "execution_count": null,
      "outputs": []
    },
    {
      "cell_type": "markdown",
      "metadata": {
        "id": "SQgKxCyiHxFQ"
      },
      "source": [
        "# Human Player"
      ]
    },
    {
      "cell_type": "code",
      "metadata": {
        "id": "FuwwHPCvB7Mq"
      },
      "source": [
        "class HumanPlayer:\n",
        "    def __init__(self, name):\n",
        "        self.name = name\n",
        "  \n",
        "    def chooseAction(self, allPositions): \n",
        "        while True:\n",
        "            while True:\n",
        "                try:\n",
        "                    row = int(input(self.name + \", input row: \"))\n",
        "                    col = int(input(self.name + \", input col: \"))\n",
        "                except ValueError:\n",
        "                    print(\"Sorry, I didn't understand that.\")\n",
        "                    quit = str(input(self.name + \", Type Q or q to quit, else just click enter again!\")).lower()\n",
        "                    if quit=='q':\n",
        "                        quit()\n",
        "                    continue\n",
        "                else:\n",
        "                    break\n",
        "            action = (row-1, col-1);\n",
        "            if action in allPositions:\n",
        "                return action\n",
        "            else:\n",
        "              print(\"This position is not available. Please enter another.\")"
      ],
      "execution_count": null,
      "outputs": []
    },
    {
      "cell_type": "markdown",
      "metadata": {
        "id": "XwtHan4YH4FI"
      },
      "source": [
        "# Random Player"
      ]
    },
    {
      "cell_type": "code",
      "metadata": {
        "id": "v0NfJ8TtECBU"
      },
      "source": [
        "class RandomPlayer(qPlayer):\n",
        "    def __init__(self, name):\n",
        "        self.name = name\n",
        "        #self.seed=seed\n",
        "  \n",
        "    def chooseAction(self, allPositions,boardd=None,symbol=None): \n",
        "        #random action\n",
        "        #numpy.random.seed(self.seed)\n",
        "        index = np.random.choice(len(allPositions))\n",
        "        action = allPositions[index]\n",
        "        return action"
      ],
      "execution_count": null,
      "outputs": []
    },
    {
      "cell_type": "markdown",
      "metadata": {
        "id": "go2gQ-rAH9n_"
      },
      "source": [
        "# Training Process: Q-Learning vs. Q-Learning "
      ]
    },
    {
      "cell_type": "code",
      "metadata": {
        "colab": {
          "base_uri": "https://localhost:8080/"
        },
        "id": "MpXaCBMPC1x6",
        "outputId": "d4c6bc07-2cf6-4e8b-a388-f9ee45276cb7"
      },
      "source": [
        "p1 = qPlayer('p1')\n",
        "p2 = qPlayer('p2')\n",
        "game = State(p1, p2)\n",
        "winners = game.play(10000)\n",
        "createPlot(winners)"
      ],
      "execution_count": null,
      "outputs": [
        {
          "output_type": "stream",
          "text": [
            "Rounds 0\n",
            "Rounds 1000\n",
            "Rounds 2000\n",
            "Rounds 3000\n"
          ],
          "name": "stdout"
        }
      ]
    },
    {
      "cell_type": "markdown",
      "metadata": {
        "id": "1oG1IhT4nw9c"
      },
      "source": [
        "### Training a Q-Agent vs a Random Agent"
      ]
    },
    {
      "cell_type": "code",
      "metadata": {
        "id": "Xj8Q_a9QnuSC"
      },
      "source": [
        "p3 = qPlayer('p3')\n",
        "p4 = RandomPlayer('Random')\n",
        "game = State(p4, p3)\n",
        "winners = game.play0(10000)\n",
        "createPlot(winners)"
      ],
      "execution_count": null,
      "outputs": []
    },
    {
      "cell_type": "markdown",
      "metadata": {
        "id": "A1hnFprSMO7n"
      },
      "source": [
        "# Epsilon Tuning: Finding the best epsilon"
      ]
    },
    {
      "cell_type": "code",
      "metadata": {
        "id": "ckfbH5JIMVKP"
      },
      "source": [
        "# Training Q-learning agents (with different epsilons) agianst random players (Q-learning player goes first)\n",
        "epsilons=[0, 0.1, 0.2, 0.3, 0.4, 0.5, 0.6, 0.7, 0.8, 0.9, 1.0]\n",
        "train_scores=[]\n",
        "test_scores=[]\n",
        "\n",
        "for epsilon in epsilons:\n",
        "    name=\"p2_\"+str(epsilon)\n",
        "\n",
        "    # Training Against Random Player   \n",
        "    p1 = RandomPlayer(\"Random\")\n",
        "    p2 = qPlayer(name,exp_rate=epsilon)\n",
        "    game = State(p1, p2)\n",
        "    winners=game.play0(1000)\n",
        "    train_score=-np.sum(winners)\n",
        "    train_scores.append(train_score)\n",
        "\n",
        "    # Testing Against P2, a previously-trained Q-agent\n",
        "    p1 = qPlayer(name, exp_rate=0)\n",
        "    p1.loadPolicy(\"policy_\"+name)\n",
        "    p2 = qPlayer(\"p2\")\n",
        "    p2.loadPolicy(\"policy_p2\")\n",
        "    game = State(p1, p2)\n",
        "    test_score=0\n",
        "    for x in range(1000):\n",
        "        game.reset()\n",
        "        test_score=test_score+game.play4(False)\n",
        "    test_scores.append(test_score)\n"
      ],
      "execution_count": 50,
      "outputs": []
    },
    {
      "cell_type": "code",
      "metadata": {
        "id": "MuwCfE4KgeCA",
        "colab": {
          "base_uri": "https://localhost:8080/"
        },
        "outputId": "c0d47d35-ca1c-4eba-80ac-73e73c780324"
      },
      "source": [
        "# The scores equal to the number of wins minus the number of loses\n",
        "print(train_scores) \n",
        "print(len(train_scores))\n",
        "print(test_scores)\n",
        "print(len(test_scores))"
      ],
      "execution_count": 51,
      "outputs": [
        {
          "output_type": "stream",
          "text": [
            "[848, 723, 645, 613, 504, 499, 407, 371, 385, 334, 279]\n",
            "11\n",
            "[853, 878, 826, -75, 439, 869, 38, -214, 347, -17, -49]\n",
            "11\n"
          ],
          "name": "stdout"
        }
      ]
    },
    {
      "cell_type": "code",
      "metadata": {
        "id": "OsbtjA6f029u",
        "colab": {
          "base_uri": "https://localhost:8080/",
          "height": 277
        },
        "outputId": "f17901fb-a75d-47cc-bb81-85a17a2a5b25"
      },
      "source": [
        "x = ['0', '0.1', '0.2', '0.3', '0.4', '0.5', '0.6', '0.7', '0.8', '0.9', '1.0']\n",
        "data = test_scores\n",
        "x_pos = [i for i, _ in enumerate(x)]\n",
        "plt.bar(x_pos, data, color='green')\n",
        "plt.title(\"Performance when tested against a trained agent\")\n",
        "plt.ylabel(\"number of wins minus number of loses\")\n",
        "plt.xticks(x_pos, x)\n",
        "plt.gca().set_ylim([np.min(test_scores)-50,np.max(test_scores)])\n",
        "plt.show()"
      ],
      "execution_count": 52,
      "outputs": [
        {
          "output_type": "display_data",
          "data": {
            "image/png": "[encoded data removed]",
            "text/plain": [
              "<Figure size 432x288 with 1 Axes>"
            ]
          },
          "metadata": {
            "tags": []
          }
        }
      ]
    },
    {
      "cell_type": "code",
      "metadata": {
        "id": "2iLodYF53rFz",
        "colab": {
          "base_uri": "https://localhost:8080/",
          "height": 277
        },
        "outputId": "ecb91db4-477f-4a04-c1df-b75ea78be336"
      },
      "source": [
        "data = train_scores\n",
        "x_pos = [i for i, _ in enumerate(x)]\n",
        "plt.bar(x_pos, data, color='green')\n",
        "plt.title(\"Performance when training against Random\")\n",
        "plt.ylabel(\"number of wins minus number of loses\")\n",
        "plt.xticks(x_pos, x)\n",
        "plt.gca().set_ylim([np.min(train_scores),np.max(train_scores)])\n",
        "plt.show()\n",
        "plt.show()\n"
      ],
      "execution_count": 53,
      "outputs": [
        {
          "output_type": "display_data",
          "data": {
            "image/png": "[encoded data removed]",
            "text/plain": [
              "<Figure size 432x288 with 1 Axes>"
            ]
          },
          "metadata": {
            "tags": []
          }
        }
      ]
    },
    {
      "cell_type": "markdown",
      "metadata": {
        "id": "uHro83JPIYAb"
      },
      "source": [
        "# Random Vs. Random 10000 rounds"
      ]
    },
    {
      "cell_type": "code",
      "metadata": {
        "colab": {
          "base_uri": "https://localhost:8080/",
          "height": 264
        },
        "id": "VVvbbn0QDD2H",
        "outputId": "85ad0614-28b8-4cd8-9516-681bcb8de1d6"
      },
      "source": [
        "winners = []\n",
        "p1 = RandomPlayer('X')\n",
        "p2 = RandomPlayer('O')\n",
        "game = State(p1, p2)\n",
        "for i in range(10000):\n",
        "    game.reset()\n",
        "    winners.append(game.play3(False))\n",
        "createPlot(winners)"
      ],
      "execution_count": 54,
      "outputs": [
        {
          "output_type": "display_data",
          "data": {
            "image/png": "[encoded data removed]",
            "text/plain": [
              "<Figure size 432x288 with 1 Axes>"
            ]
          },
          "metadata": {
            "tags": []
          }
        }
      ]
    },
    {
      "cell_type": "markdown",
      "metadata": {
        "id": "jU-m_8IviuSx"
      },
      "source": [
        "Trained Q Agent vs Random\n",
        "(Order is extremely important, as seen in the code after this block)"
      ]
    },
    {
      "cell_type": "markdown",
      "metadata": {
        "id": "DNDg3wIAItA_"
      },
      "source": [
        "# Trained Q Agent vs Random, Q-learning Goes First\n",
        "(Order is extremely important, as seen in the code after this block)"
      ]
    },
    {
      "cell_type": "code",
      "metadata": {
        "colab": {
          "base_uri": "https://localhost:8080/",
          "height": 263
        },
        "id": "625LK1ElivWw",
        "outputId": "ba82d472-e739-47fc-8f2a-a997d14fe557"
      },
      "source": [
        "p1 = qPlayer('Q-Agent', exp_rate=0)\n",
        "winners = []\n",
        "p2 = RandomPlayer('Random')\n",
        "p1.loadPolicy(\"policy_p1\")\n",
        "game = State(p1, p2)\n",
        "for x in range(1000):\n",
        "    game.reset()\n",
        "    winners.append(game.play2(False))\n",
        "createPlot(winners)"
      ],
      "execution_count": 55,
      "outputs": [
        {
          "output_type": "display_data",
          "data": {
            "image/png": "[encoded data removed]",
            "text/plain": [
              "<Figure size 432x288 with 1 Axes>"
            ]
          },
          "metadata": {
            "tags": []
          }
        }
      ]
    },
    {
      "cell_type": "markdown",
      "metadata": {
        "id": "Hnd9kOtbJUFI"
      },
      "source": [
        "# Trained Q Agent vs. Random, Random Goes First"
      ]
    },
    {
      "cell_type": "markdown",
      "metadata": {
        "id": "sWIqcII6dAYz"
      },
      "source": [
        "With the wrong policy"
      ]
    },
    {
      "cell_type": "code",
      "metadata": {
        "colab": {
          "base_uri": "https://localhost:8080/",
          "height": 262
        },
        "id": "NXKll_da3oQ0",
        "outputId": "8a6c55e6-e8cc-4b82-b1e7-b11be1ae10c6"
      },
      "source": [
        "p2 = qPlayer('Q-Agent', exp_rate=0)\n",
        "winners = []\n",
        "p1 = RandomPlayer('Random')\n",
        "p2.loadPolicy(\"policy_p1\")\n",
        "game = State(p1, p2)\n",
        "for x in range(1000):\n",
        "    game.reset()\n",
        "    winners.append(game.play5(False))\n",
        "createPlot(winners)"
      ],
      "execution_count": 56,
      "outputs": [
        {
          "output_type": "display_data",
          "data": {
            "image/png": "[encoded data removed]",
            "text/plain": [
              "<Figure size 432x288 with 1 Axes>"
            ]
          },
          "metadata": {
            "tags": []
          }
        }
      ]
    },
    {
      "cell_type": "markdown",
      "metadata": {
        "id": "GgVd4IaKdCZA"
      },
      "source": [
        "With the right policy"
      ]
    },
    {
      "cell_type": "code",
      "metadata": {
        "colab": {
          "base_uri": "https://localhost:8080/",
          "height": 262
        },
        "id": "4Xz5BtI0dD3h",
        "outputId": "b1bec108-85c8-4766-c05f-4d983270b91a"
      },
      "source": [
        "p2 = qPlayer('Q-Agent', exp_rate=0)\n",
        "winners = []\n",
        "p1 = RandomPlayer('Random')\n",
        "p2.loadPolicy(\"policy_p2\")\n",
        "game = State(p1, p2)\n",
        "for x in range(1000):\n",
        "    game.reset()\n",
        "    winners.append(game.play5(False))\n",
        "createPlot(winners)"
      ],
      "execution_count": 57,
      "outputs": [
        {
          "output_type": "display_data",
          "data": {
            "image/png": "[encoded data removed]",
            "text/plain": [
              "<Figure size 432x288 with 1 Axes>"
            ]
          },
          "metadata": {
            "tags": []
          }
        }
      ]
    },
    {
      "cell_type": "markdown",
      "metadata": {
        "id": "N3FHLCK_KlXa"
      },
      "source": [
        "# Trained Q-learning playing against itself"
      ]
    },
    {
      "cell_type": "code",
      "metadata": {
        "colab": {
          "base_uri": "https://localhost:8080/",
          "height": 279
        },
        "id": "NrtUpC4GizvH",
        "outputId": "a120bdef-5f10-454c-8708-6aa16b0e04b2"
      },
      "source": [
        "p1 = qPlayer('Q-Agent', exp_rate=0)\n",
        "p2 = qPlayer('Q-Agent', exp_rate=0)\n",
        "p1.loadPolicy(\"policy_p1\")\n",
        "p2.loadPolicy(\"policy_p2\")\n",
        "game = State(p1, p2)\n",
        "winners = game.play6(1000)\n",
        "createPlot(winners)"
      ],
      "execution_count": 58,
      "outputs": [
        {
          "output_type": "stream",
          "text": [
            "Rounds 0\n"
          ],
          "name": "stdout"
        },
        {
          "output_type": "display_data",
          "data": {
            "image/png": "[encoded data removed]",
            "text/plain": [
              "<Figure size 432x288 with 1 Axes>"
            ]
          },
          "metadata": {
            "tags": []
          }
        }
      ]
    },
    {
      "cell_type": "markdown",
      "metadata": {
        "id": "C_PwpuutLCWn"
      },
      "source": [
        "# Human v. Human (Play if you'd like!)"
      ]
    },
    {
      "cell_type": "code",
      "metadata": {
        "id": "kHSrKivygho7"
      },
      "source": [
        "p1 = HumanPlayer('x')\n",
        "p2 = HumanPlayer('o')\n",
        "game = State(p1, p2)\n",
        "game.play3(True)"
      ],
      "execution_count": null,
      "outputs": []
    },
    {
      "cell_type": "markdown",
      "metadata": {
        "id": "GWR9JWe1lADW"
      },
      "source": [
        "### Human vs Q-Agent test "
      ]
    },
    {
      "cell_type": "markdown",
      "metadata": {
        "id": "t3kdPFcmlL8Q"
      },
      "source": [
        "Q-Agent 1st, correct Q-policy"
      ]
    },
    {
      "cell_type": "code",
      "metadata": {
        "colab": {
          "base_uri": "https://localhost:8080/",
          "height": 681
        },
        "id": "hsT77rDUC_Uv",
        "outputId": "cd5ac9b7-e1ca-4c1e-baae-46c301f50eb0"
      },
      "source": [
        "p1 = qPlayer('Q-Agent', exp_rate=0)\n",
        "p2 = HumanPlayer('Human')\n",
        "p1.loadPolicy(\"policy_p1\")\n",
        "game = State(p1, p2)\n",
        "game.play2(True)\n",
        "\n",
        "# I just change the starting index of column and row to 1 instead of 0\n",
        "# This means that row 2 means the second row (not the third row))"
      ],
      "execution_count": null,
      "outputs": [
        {
          "output_type": "stream",
          "text": [
            "-------------\n",
            "|   |   | x | \n",
            "-------------\n",
            "|   |   |   | \n",
            "-------------\n",
            "|   |   |   | \n",
            "-------------\n"
          ],
          "name": "stdout"
        },
        {
          "output_type": "error",
          "ename": "KeyboardInterrupt",
          "evalue": "ignored",
          "traceback": [
            "\u001b[0;31m---------------------------------------------------------------------------\u001b[0m",
            "\u001b[0;31mKeyboardInterrupt\u001b[0m                         Traceback (most recent call last)",
            "\u001b[0;32m/usr/local/lib/python3.7/dist-packages/ipykernel/kernelbase.py\u001b[0m in \u001b[0;36m_input_request\u001b[0;34m(self, prompt, ident, parent, password)\u001b[0m\n\u001b[1;32m    728\u001b[0m             \u001b[0;32mtry\u001b[0m\u001b[0;34m:\u001b[0m\u001b[0;34m\u001b[0m\u001b[0;34m\u001b[0m\u001b[0m\n\u001b[0;32m--> 729\u001b[0;31m                 \u001b[0mident\u001b[0m\u001b[0;34m,\u001b[0m \u001b[0mreply\u001b[0m \u001b[0;34m=\u001b[0m \u001b[0mself\u001b[0m\u001b[0;34m.\u001b[0m\u001b[0msession\u001b[0m\u001b[0;34m.\u001b[0m\u001b[0mrecv\u001b[0m\u001b[0;34m(\u001b[0m\u001b[0mself\u001b[0m\u001b[0;34m.\u001b[0m\u001b[0mstdin_socket\u001b[0m\u001b[0;34m,\u001b[0m \u001b[0;36m0\u001b[0m\u001b[0;34m)\u001b[0m\u001b[0;34m\u001b[0m\u001b[0;34m\u001b[0m\u001b[0m\n\u001b[0m\u001b[1;32m    730\u001b[0m             \u001b[0;32mexcept\u001b[0m \u001b[0mException\u001b[0m\u001b[0;34m:\u001b[0m\u001b[0;34m\u001b[0m\u001b[0;34m\u001b[0m\u001b[0m\n",
            "\u001b[0;32m/usr/local/lib/python3.7/dist-packages/jupyter_client/session.py\u001b[0m in \u001b[0;36mrecv\u001b[0;34m(self, socket, mode, content, copy)\u001b[0m\n\u001b[1;32m    802\u001b[0m         \u001b[0;32mtry\u001b[0m\u001b[0;34m:\u001b[0m\u001b[0;34m\u001b[0m\u001b[0;34m\u001b[0m\u001b[0m\n\u001b[0;32m--> 803\u001b[0;31m             \u001b[0mmsg_list\u001b[0m \u001b[0;34m=\u001b[0m \u001b[0msocket\u001b[0m\u001b[0;34m.\u001b[0m\u001b[0mrecv_multipart\u001b[0m\u001b[0;34m(\u001b[0m\u001b[0mmode\u001b[0m\u001b[0;34m,\u001b[0m \u001b[0mcopy\u001b[0m\u001b[0;34m=\u001b[0m\u001b[0mcopy\u001b[0m\u001b[0;34m)\u001b[0m\u001b[0;34m\u001b[0m\u001b[0;34m\u001b[0m\u001b[0m\n\u001b[0m\u001b[1;32m    804\u001b[0m         \u001b[0;32mexcept\u001b[0m \u001b[0mzmq\u001b[0m\u001b[0;34m.\u001b[0m\u001b[0mZMQError\u001b[0m \u001b[0;32mas\u001b[0m \u001b[0me\u001b[0m\u001b[0;34m:\u001b[0m\u001b[0;34m\u001b[0m\u001b[0;34m\u001b[0m\u001b[0m\n",
            "\u001b[0;32m/usr/local/lib/python3.7/dist-packages/zmq/sugar/socket.py\u001b[0m in \u001b[0;36mrecv_multipart\u001b[0;34m(self, flags, copy, track)\u001b[0m\n\u001b[1;32m    582\u001b[0m         \"\"\"\n\u001b[0;32m--> 583\u001b[0;31m         \u001b[0mparts\u001b[0m \u001b[0;34m=\u001b[0m \u001b[0;34m[\u001b[0m\u001b[0mself\u001b[0m\u001b[0;34m.\u001b[0m\u001b[0mrecv\u001b[0m\u001b[0;34m(\u001b[0m\u001b[0mflags\u001b[0m\u001b[0;34m,\u001b[0m \u001b[0mcopy\u001b[0m\u001b[0;34m=\u001b[0m\u001b[0mcopy\u001b[0m\u001b[0;34m,\u001b[0m \u001b[0mtrack\u001b[0m\u001b[0;34m=\u001b[0m\u001b[0mtrack\u001b[0m\u001b[0;34m)\u001b[0m\u001b[0;34m]\u001b[0m\u001b[0;34m\u001b[0m\u001b[0;34m\u001b[0m\u001b[0m\n\u001b[0m\u001b[1;32m    584\u001b[0m         \u001b[0;31m# have first part already, only loop while more to receive\u001b[0m\u001b[0;34m\u001b[0m\u001b[0;34m\u001b[0m\u001b[0;34m\u001b[0m\u001b[0m\n",
            "\u001b[0;32mzmq/backend/cython/socket.pyx\u001b[0m in \u001b[0;36mzmq.backend.cython.socket.Socket.recv\u001b[0;34m()\u001b[0m\n",
            "\u001b[0;32mzmq/backend/cython/socket.pyx\u001b[0m in \u001b[0;36mzmq.backend.cython.socket.Socket.recv\u001b[0;34m()\u001b[0m\n",
            "\u001b[0;32mzmq/backend/cython/socket.pyx\u001b[0m in \u001b[0;36mzmq.backend.cython.socket._recv_copy\u001b[0;34m()\u001b[0m\n",
            "\u001b[0;32m/usr/local/lib/python3.7/dist-packages/zmq/backend/cython/checkrc.pxd\u001b[0m in \u001b[0;36mzmq.backend.cython.checkrc._check_rc\u001b[0;34m()\u001b[0m\n",
            "\u001b[0;31mKeyboardInterrupt\u001b[0m: ",
            "\nDuring handling of the above exception, another exception occurred:\n",
            "\u001b[0;31mKeyboardInterrupt\u001b[0m                         Traceback (most recent call last)",
            "\u001b[0;32m<ipython-input-25-f5ac775007a9>\u001b[0m in \u001b[0;36m<module>\u001b[0;34m()\u001b[0m\n\u001b[1;32m      3\u001b[0m \u001b[0mp1\u001b[0m\u001b[0;34m.\u001b[0m\u001b[0mloadPolicy\u001b[0m\u001b[0;34m(\u001b[0m\u001b[0;34m\"policy_p1\"\u001b[0m\u001b[0;34m)\u001b[0m\u001b[0;34m\u001b[0m\u001b[0;34m\u001b[0m\u001b[0m\n\u001b[1;32m      4\u001b[0m \u001b[0mgame\u001b[0m \u001b[0;34m=\u001b[0m \u001b[0mState\u001b[0m\u001b[0;34m(\u001b[0m\u001b[0mp1\u001b[0m\u001b[0;34m,\u001b[0m \u001b[0mp2\u001b[0m\u001b[0;34m)\u001b[0m\u001b[0;34m\u001b[0m\u001b[0;34m\u001b[0m\u001b[0m\n\u001b[0;32m----> 5\u001b[0;31m \u001b[0mgame\u001b[0m\u001b[0;34m.\u001b[0m\u001b[0mplay2\u001b[0m\u001b[0;34m(\u001b[0m\u001b[0;32mTrue\u001b[0m\u001b[0;34m)\u001b[0m\u001b[0;34m\u001b[0m\u001b[0;34m\u001b[0m\u001b[0m\n\u001b[0m\u001b[1;32m      6\u001b[0m \u001b[0;34m\u001b[0m\u001b[0m\n\u001b[1;32m      7\u001b[0m \u001b[0;31m# I just change the starting index of column and row to 1 instead of 0\u001b[0m\u001b[0;34m\u001b[0m\u001b[0;34m\u001b[0m\u001b[0;34m\u001b[0m\u001b[0m\n",
            "\u001b[0;32m<ipython-input-19-03d253195a21>\u001b[0m in \u001b[0;36mplay2\u001b[0;34m(self, showBoard)\u001b[0m\n\u001b[1;32m    252\u001b[0m                 \u001b[0;31m# Player 2\u001b[0m\u001b[0;34m\u001b[0m\u001b[0;34m\u001b[0m\u001b[0;34m\u001b[0m\u001b[0m\n\u001b[1;32m    253\u001b[0m                 \u001b[0mpositions\u001b[0m \u001b[0;34m=\u001b[0m \u001b[0mself\u001b[0m\u001b[0;34m.\u001b[0m\u001b[0mavailablePositions\u001b[0m\u001b[0;34m(\u001b[0m\u001b[0;34m)\u001b[0m\u001b[0;34m\u001b[0m\u001b[0;34m\u001b[0m\u001b[0m\n\u001b[0;32m--> 254\u001b[0;31m                 \u001b[0mp2_action\u001b[0m \u001b[0;34m=\u001b[0m \u001b[0mself\u001b[0m\u001b[0;34m.\u001b[0m\u001b[0mp2\u001b[0m\u001b[0;34m.\u001b[0m\u001b[0mchooseAction\u001b[0m\u001b[0;34m(\u001b[0m\u001b[0mpositions\u001b[0m\u001b[0;34m)\u001b[0m\u001b[0;34m\u001b[0m\u001b[0;34m\u001b[0m\u001b[0m\n\u001b[0m\u001b[1;32m    255\u001b[0m                 \u001b[0mself\u001b[0m\u001b[0;34m.\u001b[0m\u001b[0mupdateState\u001b[0m\u001b[0;34m(\u001b[0m\u001b[0mp2_action\u001b[0m\u001b[0;34m)\u001b[0m\u001b[0;34m\u001b[0m\u001b[0;34m\u001b[0m\u001b[0m\n\u001b[1;32m    256\u001b[0m                 \u001b[0;32mif\u001b[0m \u001b[0mshowBoard\u001b[0m\u001b[0;34m:\u001b[0m\u001b[0;34m\u001b[0m\u001b[0;34m\u001b[0m\u001b[0m\n",
            "\u001b[0;32m<ipython-input-4-cbdde3fb3a2a>\u001b[0m in \u001b[0;36mchooseAction\u001b[0;34m(self, allPositions)\u001b[0m\n\u001b[1;32m      7\u001b[0m             \u001b[0;32mwhile\u001b[0m \u001b[0;32mTrue\u001b[0m\u001b[0;34m:\u001b[0m\u001b[0;34m\u001b[0m\u001b[0;34m\u001b[0m\u001b[0m\n\u001b[1;32m      8\u001b[0m                 \u001b[0;32mtry\u001b[0m\u001b[0;34m:\u001b[0m\u001b[0;34m\u001b[0m\u001b[0;34m\u001b[0m\u001b[0m\n\u001b[0;32m----> 9\u001b[0;31m                     \u001b[0mrow\u001b[0m \u001b[0;34m=\u001b[0m \u001b[0mint\u001b[0m\u001b[0;34m(\u001b[0m\u001b[0minput\u001b[0m\u001b[0;34m(\u001b[0m\u001b[0mself\u001b[0m\u001b[0;34m.\u001b[0m\u001b[0mname\u001b[0m \u001b[0;34m+\u001b[0m \u001b[0;34m\", input row: \"\u001b[0m\u001b[0;34m)\u001b[0m\u001b[0;34m)\u001b[0m\u001b[0;34m\u001b[0m\u001b[0;34m\u001b[0m\u001b[0m\n\u001b[0m\u001b[1;32m     10\u001b[0m                     \u001b[0mcol\u001b[0m \u001b[0;34m=\u001b[0m \u001b[0mint\u001b[0m\u001b[0;34m(\u001b[0m\u001b[0minput\u001b[0m\u001b[0;34m(\u001b[0m\u001b[0mself\u001b[0m\u001b[0;34m.\u001b[0m\u001b[0mname\u001b[0m \u001b[0;34m+\u001b[0m \u001b[0;34m\", input col: \"\u001b[0m\u001b[0;34m)\u001b[0m\u001b[0;34m)\u001b[0m\u001b[0;34m\u001b[0m\u001b[0;34m\u001b[0m\u001b[0m\n\u001b[1;32m     11\u001b[0m                 \u001b[0;32mexcept\u001b[0m \u001b[0mValueError\u001b[0m\u001b[0;34m:\u001b[0m\u001b[0;34m\u001b[0m\u001b[0;34m\u001b[0m\u001b[0m\n",
            "\u001b[0;32m/usr/local/lib/python3.7/dist-packages/ipykernel/kernelbase.py\u001b[0m in \u001b[0;36mraw_input\u001b[0;34m(self, prompt)\u001b[0m\n\u001b[1;32m    702\u001b[0m             \u001b[0mself\u001b[0m\u001b[0;34m.\u001b[0m\u001b[0m_parent_ident\u001b[0m\u001b[0;34m,\u001b[0m\u001b[0;34m\u001b[0m\u001b[0;34m\u001b[0m\u001b[0m\n\u001b[1;32m    703\u001b[0m             \u001b[0mself\u001b[0m\u001b[0;34m.\u001b[0m\u001b[0m_parent_header\u001b[0m\u001b[0;34m,\u001b[0m\u001b[0;34m\u001b[0m\u001b[0;34m\u001b[0m\u001b[0m\n\u001b[0;32m--> 704\u001b[0;31m             \u001b[0mpassword\u001b[0m\u001b[0;34m=\u001b[0m\u001b[0;32mFalse\u001b[0m\u001b[0;34m,\u001b[0m\u001b[0;34m\u001b[0m\u001b[0;34m\u001b[0m\u001b[0m\n\u001b[0m\u001b[1;32m    705\u001b[0m         )\n\u001b[1;32m    706\u001b[0m \u001b[0;34m\u001b[0m\u001b[0m\n",
            "\u001b[0;32m/usr/local/lib/python3.7/dist-packages/ipykernel/kernelbase.py\u001b[0m in \u001b[0;36m_input_request\u001b[0;34m(self, prompt, ident, parent, password)\u001b[0m\n\u001b[1;32m    732\u001b[0m             \u001b[0;32mexcept\u001b[0m \u001b[0mKeyboardInterrupt\u001b[0m\u001b[0;34m:\u001b[0m\u001b[0;34m\u001b[0m\u001b[0;34m\u001b[0m\u001b[0m\n\u001b[1;32m    733\u001b[0m                 \u001b[0;31m# re-raise KeyboardInterrupt, to truncate traceback\u001b[0m\u001b[0;34m\u001b[0m\u001b[0;34m\u001b[0m\u001b[0;34m\u001b[0m\u001b[0m\n\u001b[0;32m--> 734\u001b[0;31m                 \u001b[0;32mraise\u001b[0m \u001b[0mKeyboardInterrupt\u001b[0m\u001b[0;34m\u001b[0m\u001b[0;34m\u001b[0m\u001b[0m\n\u001b[0m\u001b[1;32m    735\u001b[0m             \u001b[0;32melse\u001b[0m\u001b[0;34m:\u001b[0m\u001b[0;34m\u001b[0m\u001b[0;34m\u001b[0m\u001b[0m\n\u001b[1;32m    736\u001b[0m                 \u001b[0;32mbreak\u001b[0m\u001b[0;34m\u001b[0m\u001b[0;34m\u001b[0m\u001b[0m\n",
            "\u001b[0;31mKeyboardInterrupt\u001b[0m: "
          ]
        }
      ]
    },
    {
      "cell_type": "markdown",
      "metadata": {
        "id": "OVQR5NV8lWkF"
      },
      "source": [
        "Q-Agent 1st, incorrect policy"
      ]
    },
    {
      "cell_type": "code",
      "metadata": {
        "colab": {
          "base_uri": "https://localhost:8080/",
          "height": 1000
        },
        "id": "Y42MnkmElQhr",
        "outputId": "d3209b32-7b19-4b74-e4ad-d7558958e556"
      },
      "source": [
        "p1 = qPlayer('Q-Agent', exp_rate=0)\n",
        "p2 = HumanPlayer('Human')\n",
        "p1.loadPolicy(\"policy_p2\")\n",
        "game = State(p1, p2)\n",
        "game.play2(True)\n",
        "\n",
        "# I just change the starting index of column and row to 1 instead of 0\n",
        "# This means that row 2 means the second row (not the third row))"
      ],
      "execution_count": null,
      "outputs": [
        {
          "output_type": "stream",
          "text": [
            "-------------\n",
            "|   |   |   | \n",
            "-------------\n",
            "|   |   |   | \n",
            "-------------\n",
            "|   |   | x | \n",
            "-------------\n",
            "Human, input row: 1\n",
            "Human, input col: 1\n",
            "-------------\n",
            "| o |   |   | \n",
            "-------------\n",
            "|   |   |   | \n",
            "-------------\n",
            "|   |   | x | \n",
            "-------------\n",
            "-------------\n",
            "| o |   |   | \n",
            "-------------\n",
            "|   |   |   | \n",
            "-------------\n",
            "|   | x | x | \n",
            "-------------\n",
            "Human, input row: 1\n",
            "Human, input col: 2\n",
            "-------------\n",
            "| o | o |   | \n",
            "-------------\n",
            "|   |   |   | \n",
            "-------------\n",
            "|   | x | x | \n",
            "-------------\n",
            "-------------\n",
            "| o | o |   | \n",
            "-------------\n",
            "|   |   |   | \n",
            "-------------\n",
            "| x | x | x | \n",
            "-------------\n",
            "Q-Agent wins!\n"
          ],
          "name": "stdout"
        },
        {
          "output_type": "error",
          "ename": "AttributeError",
          "evalue": "ignored",
          "traceback": [
            "\u001b[0;31m---------------------------------------------------------------------------\u001b[0m",
            "\u001b[0;31mAttributeError\u001b[0m                            Traceback (most recent call last)",
            "\u001b[0;32m<ipython-input-26-9e5da87e8fd1>\u001b[0m in \u001b[0;36m<module>\u001b[0;34m()\u001b[0m\n\u001b[1;32m      3\u001b[0m \u001b[0mp1\u001b[0m\u001b[0;34m.\u001b[0m\u001b[0mloadPolicy\u001b[0m\u001b[0;34m(\u001b[0m\u001b[0;34m\"policy_p2\"\u001b[0m\u001b[0;34m)\u001b[0m\u001b[0;34m\u001b[0m\u001b[0;34m\u001b[0m\u001b[0m\n\u001b[1;32m      4\u001b[0m \u001b[0mgame\u001b[0m \u001b[0;34m=\u001b[0m \u001b[0mState\u001b[0m\u001b[0;34m(\u001b[0m\u001b[0mp1\u001b[0m\u001b[0;34m,\u001b[0m \u001b[0mp2\u001b[0m\u001b[0;34m)\u001b[0m\u001b[0;34m\u001b[0m\u001b[0;34m\u001b[0m\u001b[0m\n\u001b[0;32m----> 5\u001b[0;31m \u001b[0mgame\u001b[0m\u001b[0;34m.\u001b[0m\u001b[0mplay2\u001b[0m\u001b[0;34m(\u001b[0m\u001b[0;32mTrue\u001b[0m\u001b[0;34m)\u001b[0m\u001b[0;34m\u001b[0m\u001b[0;34m\u001b[0m\u001b[0m\n\u001b[0m\u001b[1;32m      6\u001b[0m \u001b[0;34m\u001b[0m\u001b[0m\n\u001b[1;32m      7\u001b[0m \u001b[0;31m# I just change the starting index of column and row to 1 instead of 0\u001b[0m\u001b[0;34m\u001b[0m\u001b[0;34m\u001b[0m\u001b[0;34m\u001b[0m\u001b[0m\n",
            "\u001b[0;32m<ipython-input-19-03d253195a21>\u001b[0m in \u001b[0;36mplay2\u001b[0;34m(self, showBoard)\u001b[0m\n\u001b[1;32m    245\u001b[0m                 \u001b[0mself\u001b[0m\u001b[0;34m.\u001b[0m\u001b[0mreset\u001b[0m\u001b[0;34m(\u001b[0m\u001b[0;34m)\u001b[0m\u001b[0;34m\u001b[0m\u001b[0;34m\u001b[0m\u001b[0m\n\u001b[1;32m    246\u001b[0m                 \u001b[0mself\u001b[0m\u001b[0;34m.\u001b[0m\u001b[0mp1\u001b[0m\u001b[0;34m.\u001b[0m\u001b[0mreset\u001b[0m\u001b[0;34m(\u001b[0m\u001b[0;34m)\u001b[0m\u001b[0;34m\u001b[0m\u001b[0;34m\u001b[0m\u001b[0m\n\u001b[0;32m--> 247\u001b[0;31m                 \u001b[0mself\u001b[0m\u001b[0;34m.\u001b[0m\u001b[0mp2\u001b[0m\u001b[0;34m.\u001b[0m\u001b[0mreset\u001b[0m\u001b[0;34m(\u001b[0m\u001b[0;34m)\u001b[0m\u001b[0;34m\u001b[0m\u001b[0;34m\u001b[0m\u001b[0m\n\u001b[0m\u001b[1;32m    248\u001b[0m                 \u001b[0mself\u001b[0m\u001b[0;34m.\u001b[0m\u001b[0mreset\u001b[0m\u001b[0;34m(\u001b[0m\u001b[0;34m)\u001b[0m\u001b[0;34m\u001b[0m\u001b[0;34m\u001b[0m\u001b[0m\n\u001b[1;32m    249\u001b[0m                 \u001b[0;32mbreak\u001b[0m\u001b[0;34m\u001b[0m\u001b[0;34m\u001b[0m\u001b[0m\n",
            "\u001b[0;31mAttributeError\u001b[0m: 'HumanPlayer' object has no attribute 'reset'"
          ]
        }
      ]
    },
    {
      "cell_type": "markdown",
      "metadata": {
        "id": "l4_rkB_ClpMJ"
      },
      "source": [
        "Human 1st, correct policy"
      ]
    },
    {
      "cell_type": "code",
      "metadata": {
        "colab": {
          "base_uri": "https://localhost:8080/"
        },
        "id": "5S8CmSrElrSo",
        "outputId": "f2e9ca42-6a13-498c-cfe6-7a5d06ed3269"
      },
      "source": [
        "p2 = qPlayer('Q-Agent', exp_rate=0)\n",
        "p1 = HumanPlayer('Human')\n",
        "p2.loadPolicy(\"policy_p2\")\n",
        "game = State(p1, p2)\n",
        "game.play5(True)\n",
        "\n",
        "# I just change the starting index of column and row to 1 instead of 0\n",
        "# This means that row 2 means the second row (not the third row))"
      ],
      "execution_count": null,
      "outputs": [
        {
          "output_type": "stream",
          "text": [
            "Human, input row: 1\n",
            "Human, input col: 2\n",
            "-------------\n",
            "|   | x |   | \n",
            "-------------\n",
            "|   |   |   | \n",
            "-------------\n",
            "|   |   |   | \n",
            "-------------\n",
            "-------------\n",
            "|   | x | o | \n",
            "-------------\n",
            "|   |   |   | \n",
            "-------------\n",
            "|   |   |   | \n",
            "-------------\n",
            "Human, input row: 2\n",
            "Human, input col: 2\n",
            "-------------\n",
            "|   | x | o | \n",
            "-------------\n",
            "|   | x |   | \n",
            "-------------\n",
            "|   |   |   | \n",
            "-------------\n",
            "-------------\n",
            "|   | x | o | \n",
            "-------------\n",
            "|   | x |   | \n",
            "-------------\n",
            "|   | o |   | \n",
            "-------------\n",
            "Human, input row: 3\n",
            "Human, input col: 3\n",
            "-------------\n",
            "|   | x | o | \n",
            "-------------\n",
            "|   | x |   | \n",
            "-------------\n",
            "|   | o | x | \n",
            "-------------\n",
            "-------------\n",
            "| o | x | o | \n",
            "-------------\n",
            "|   | x |   | \n",
            "-------------\n",
            "|   | o | x | \n",
            "-------------\n",
            "Human, input row: 3\n",
            "Human, input col: 1\n",
            "-------------\n",
            "| o | x | o | \n",
            "-------------\n",
            "|   | x |   | \n",
            "-------------\n",
            "| x | o | x | \n",
            "-------------\n",
            "-------------\n",
            "| o | x | o | \n",
            "-------------\n",
            "|   | x | o | \n",
            "-------------\n",
            "| x | o | x | \n",
            "-------------\n",
            "Human, input row: 2\n",
            "Human, input col: 1\n",
            "-------------\n",
            "| o | x | o | \n",
            "-------------\n",
            "| x | x | o | \n",
            "-------------\n",
            "| x | o | x | \n",
            "-------------\n",
            "tie!\n"
          ],
          "name": "stdout"
        },
        {
          "output_type": "execute_result",
          "data": {
            "text/plain": [
              "0"
            ]
          },
          "metadata": {
            "tags": []
          },
          "execution_count": 27
        }
      ]
    },
    {
      "cell_type": "markdown",
      "metadata": {
        "id": "C8AGHfvUl2MU"
      },
      "source": [
        "Human 1st, incorrect Q policy"
      ]
    },
    {
      "cell_type": "code",
      "metadata": {
        "colab": {
          "base_uri": "https://localhost:8080/"
        },
        "id": "ljpz9L0jl4PA",
        "outputId": "c610c122-dfd8-4e23-e220-9fe1711063d1"
      },
      "source": [
        "p2 = qPlayer('Q-Agent', exp_rate=0)\n",
        "p1 = HumanPlayer('Human')\n",
        "p2.loadPolicy(\"policy_p1\")\n",
        "game = State(p1, p2)\n",
        "game.play5(True)\n",
        "\n",
        "# I just change the starting index of column and row to 1 instead of 0\n",
        "# This means that row 2 means the second row (not the third row))"
      ],
      "execution_count": null,
      "outputs": [
        {
          "output_type": "stream",
          "text": [
            "Human, input row: 2\n",
            "Human, input col: 2\n",
            "-------------\n",
            "|   |   |   | \n",
            "-------------\n",
            "|   | x |   | \n",
            "-------------\n",
            "|   |   |   | \n",
            "-------------\n",
            "-------------\n",
            "|   |   |   | \n",
            "-------------\n",
            "|   | x |   | \n",
            "-------------\n",
            "|   |   | o | \n",
            "-------------\n",
            "Human, input row: 2\n",
            "Human, input col: 1\n",
            "-------------\n",
            "|   |   |   | \n",
            "-------------\n",
            "| x | x |   | \n",
            "-------------\n",
            "|   |   | o | \n",
            "-------------\n",
            "-------------\n",
            "|   |   |   | \n",
            "-------------\n",
            "| x | x |   | \n",
            "-------------\n",
            "|   | o | o | \n",
            "-------------\n",
            "Human, input row: 2\n",
            "Human, input col: 3\n",
            "-------------\n",
            "|   |   |   | \n",
            "-------------\n",
            "| x | x | x | \n",
            "-------------\n",
            "|   | o | o | \n",
            "-------------\n",
            "Human wins!\n"
          ],
          "name": "stdout"
        },
        {
          "output_type": "execute_result",
          "data": {
            "text/plain": [
              "1"
            ]
          },
          "metadata": {
            "tags": []
          },
          "execution_count": 28
        }
      ]
    },
    {
      "cell_type": "markdown",
      "metadata": {
        "id": "JCyQZcYlLHyH"
      },
      "source": [
        "# Human vs. Random"
      ]
    },
    {
      "cell_type": "code",
      "metadata": {
        "id": "mXS0mooMglQq"
      },
      "source": [
        "p1 = HumanPlayer('x')\n",
        "p2 = RandomPlayer('o')\n",
        "game = State(p1, p2)\n",
        "game.play3(True)"
      ],
      "execution_count": null,
      "outputs": []
    }
  ]
}